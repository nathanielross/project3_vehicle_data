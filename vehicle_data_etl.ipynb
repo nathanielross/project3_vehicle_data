{
 "cells": [
  {
   "cell_type": "markdown",
   "metadata": {},
   "source": [
    "# **Used Vehicle Price Data - ETL**"
   ]
  },
  {
   "cell_type": "code",
   "execution_count": 1,
   "metadata": {},
   "outputs": [],
   "source": [
    "# Import dependencies\n",
    "import io\n",
    "import requests\n",
    "import numpy as np\n",
    "import pandas as pd\n",
    "import matplotlib.pylab as plt"
   ]
  },
  {
   "cell_type": "markdown",
   "metadata": {},
   "source": [
    "### *Import Vehicles Dataset from AWS S3 Bucket*"
   ]
  },
  {
   "cell_type": "markdown",
   "metadata": {},
   "source": [
    "CSV hosted on S3 is 1.5GB. It may be too RAM intensive and not load. If it doesn't, try url (INSERT URL) for condensed sample csv to run through ETL notebook below."
   ]
  },
  {
   "cell_type": "code",
   "execution_count": 2,
   "metadata": {},
   "outputs": [],
   "source": [
    "# Import csv from S3 url\n",
    "url = requests.get('https://vehicledatabootcamp.s3.amazonaws.com/vehicles.csv').content\n",
    "vehicles_data = pd.read_csv(io.StringIO(url.decode('utf-8')))"
   ]
  },
  {
   "cell_type": "markdown",
   "metadata": {},
   "source": [
    "### *Overview of Raw Dataset*"
   ]
  },
  {
   "cell_type": "code",
   "execution_count": 3,
   "metadata": {
    "scrolled": false
   },
   "outputs": [
    {
     "data": {
      "text/plain": [
       "id              539759\n",
       "url             539759\n",
       "region             403\n",
       "region_url         413\n",
       "price            18386\n",
       "year               113\n",
       "manufacturer        43\n",
       "model            36948\n",
       "condition            6\n",
       "cylinders            8\n",
       "fuel                 5\n",
       "odometer        122400\n",
       "title_status         6\n",
       "transmission         3\n",
       "vin             181677\n",
       "drive                3\n",
       "size                 4\n",
       "type                13\n",
       "paint_color         12\n",
       "image_url       364282\n",
       "description     454053\n",
       "county               0\n",
       "state               51\n",
       "lat              54587\n",
       "long             54552\n",
       "dtype: int64"
      ]
     },
     "execution_count": 3,
     "metadata": {},
     "output_type": "execute_result"
    }
   ],
   "source": [
    "# View no. of unique values for each variable\n",
    "vehicles_data.nunique(axis=0)"
   ]
  },
  {
   "cell_type": "code",
   "execution_count": 4,
   "metadata": {
    "scrolled": true
   },
   "outputs": [
    {
     "data": {
      "text/plain": [
       "array(['nc', 'ne', 'co', 'ny', 'nj', 'va', 'tn', 'il', 'ia', 'mn', 'fl',\n",
       "       'ma', 'tx', 'ca', 'or', 'ar', 'wa', 'ct', 'mi', 'sc', 'ks', 'nd',\n",
       "       'wi', 'mt', 'pa', 'oh', 'wv', 'ms', 'nm', 'sd', 'ky', 'mo', 'la',\n",
       "       'dc', 'al', 'nv', 'ri', 'ut', 'wy', 'vt', 'me', 'az', 'de', 'ak',\n",
       "       'ok', 'ga', 'in', 'id', 'md', 'nh', 'hi'], dtype=object)"
      ]
     },
     "execution_count": 4,
     "metadata": {},
     "output_type": "execute_result"
    }
   ],
   "source": [
    "# Confirm that 51st state was Washington DC\n",
    "vehicles_data.state.unique() "
   ]
  },
  {
   "cell_type": "code",
   "execution_count": 5,
   "metadata": {
    "scrolled": true
   },
   "outputs": [
    {
     "data": {
      "text/html": [
       "<div>\n",
       "<style scoped>\n",
       "    .dataframe tbody tr th:only-of-type {\n",
       "        vertical-align: middle;\n",
       "    }\n",
       "\n",
       "    .dataframe tbody tr th {\n",
       "        vertical-align: top;\n",
       "    }\n",
       "\n",
       "    .dataframe thead th {\n",
       "        text-align: right;\n",
       "    }\n",
       "</style>\n",
       "<table border=\"1\" class=\"dataframe\">\n",
       "  <thead>\n",
       "    <tr style=\"text-align: right;\">\n",
       "      <th></th>\n",
       "      <th>id</th>\n",
       "      <th>price</th>\n",
       "      <th>year</th>\n",
       "      <th>odometer</th>\n",
       "      <th>county</th>\n",
       "      <th>lat</th>\n",
       "      <th>long</th>\n",
       "    </tr>\n",
       "  </thead>\n",
       "  <tbody>\n",
       "    <tr>\n",
       "      <th>count</th>\n",
       "      <td>539759.000000</td>\n",
       "      <td>539759.000000</td>\n",
       "      <td>538772.000000</td>\n",
       "      <td>440783.000000</td>\n",
       "      <td>0.000000</td>\n",
       "      <td>530785.000000</td>\n",
       "      <td>530785.000000</td>\n",
       "    </tr>\n",
       "    <tr>\n",
       "      <th>mean</th>\n",
       "      <td>7087608553.749804</td>\n",
       "      <td>195421.387573</td>\n",
       "      <td>2009.830982</td>\n",
       "      <td>100800.803259</td>\n",
       "      <td>nan</td>\n",
       "      <td>38.432128</td>\n",
       "      <td>-94.040501</td>\n",
       "    </tr>\n",
       "    <tr>\n",
       "      <th>std</th>\n",
       "      <td>5234175.784002</td>\n",
       "      <td>22082524.011569</td>\n",
       "      <td>9.161334</td>\n",
       "      <td>176705.802933</td>\n",
       "      <td>nan</td>\n",
       "      <td>5.916936</td>\n",
       "      <td>17.626658</td>\n",
       "    </tr>\n",
       "    <tr>\n",
       "      <th>min</th>\n",
       "      <td>7065764796.000000</td>\n",
       "      <td>0.000000</td>\n",
       "      <td>0.000000</td>\n",
       "      <td>0.000000</td>\n",
       "      <td>nan</td>\n",
       "      <td>-84.911400</td>\n",
       "      <td>-176.810000</td>\n",
       "    </tr>\n",
       "    <tr>\n",
       "      <th>25%</th>\n",
       "      <td>7084240305.500000</td>\n",
       "      <td>4400.000000</td>\n",
       "      <td>2007.000000</td>\n",
       "      <td>47038.500000</td>\n",
       "      <td>nan</td>\n",
       "      <td>34.197100</td>\n",
       "      <td>-106.782000</td>\n",
       "    </tr>\n",
       "    <tr>\n",
       "      <th>50%</th>\n",
       "      <td>7088972959.000000</td>\n",
       "      <td>9500.000000</td>\n",
       "      <td>2012.000000</td>\n",
       "      <td>93300.000000</td>\n",
       "      <td>nan</td>\n",
       "      <td>39.077600</td>\n",
       "      <td>-88.100900</td>\n",
       "    </tr>\n",
       "    <tr>\n",
       "      <th>75%</th>\n",
       "      <td>7092094043.000000</td>\n",
       "      <td>17926.000000</td>\n",
       "      <td>2015.000000</td>\n",
       "      <td>137755.000000</td>\n",
       "      <td>nan</td>\n",
       "      <td>42.449100</td>\n",
       "      <td>-81.219000</td>\n",
       "    </tr>\n",
       "    <tr>\n",
       "      <th>max</th>\n",
       "      <td>7093536715.000000</td>\n",
       "      <td>4294967295.000000</td>\n",
       "      <td>2021.000000</td>\n",
       "      <td>64809218.000000</td>\n",
       "      <td>nan</td>\n",
       "      <td>84.514800</td>\n",
       "      <td>161.016000</td>\n",
       "    </tr>\n",
       "  </tbody>\n",
       "</table>\n",
       "</div>"
      ],
      "text/plain": [
       "                      id              price           year         odometer  \\\n",
       "count      539759.000000      539759.000000  538772.000000    440783.000000   \n",
       "mean   7087608553.749804      195421.387573    2009.830982    100800.803259   \n",
       "std       5234175.784002    22082524.011569       9.161334    176705.802933   \n",
       "min    7065764796.000000           0.000000       0.000000         0.000000   \n",
       "25%    7084240305.500000        4400.000000    2007.000000     47038.500000   \n",
       "50%    7088972959.000000        9500.000000    2012.000000     93300.000000   \n",
       "75%    7092094043.000000       17926.000000    2015.000000    137755.000000   \n",
       "max    7093536715.000000  4294967295.000000    2021.000000  64809218.000000   \n",
       "\n",
       "         county            lat           long  \n",
       "count  0.000000  530785.000000  530785.000000  \n",
       "mean        nan      38.432128     -94.040501  \n",
       "std         nan       5.916936      17.626658  \n",
       "min         nan     -84.911400    -176.810000  \n",
       "25%         nan      34.197100    -106.782000  \n",
       "50%         nan      39.077600     -88.100900  \n",
       "75%         nan      42.449100     -81.219000  \n",
       "max         nan      84.514800     161.016000  "
      ]
     },
     "execution_count": 5,
     "metadata": {},
     "output_type": "execute_result"
    }
   ],
   "source": [
    "# See overview of raw data\n",
    "vehicles_data.describe().apply(lambda s: s.apply(lambda x: format(x, 'f')))"
   ]
  },
  {
   "cell_type": "markdown",
   "metadata": {},
   "source": [
    "## *Removing NaN Values & Price Outliers*"
   ]
  },
  {
   "cell_type": "markdown",
   "metadata": {},
   "source": [
    "#### Nan Values"
   ]
  },
  {
   "cell_type": "markdown",
   "metadata": {},
   "source": [
    "There were too many NaN values in some columns so we decided to write a for loop that parsed through the dataset to remove any column where more than 40% of the values were NaN. This resulted in the 'condition', 'cylinders', 'vin', 'size', and 'county' columns being removed from the dataset."
   ]
  },
  {
   "cell_type": "code",
   "execution_count": 6,
   "metadata": {
    "scrolled": false
   },
   "outputs": [
    {
     "data": {
      "text/plain": [
       "Index(['id', 'url', 'region', 'region_url', 'price', 'year', 'manufacturer',\n",
       "       'model', 'fuel', 'odometer', 'title_status', 'transmission', 'drive',\n",
       "       'type', 'paint_color', 'image_url', 'description', 'state', 'lat',\n",
       "       'long'],\n",
       "      dtype='object')"
      ]
     },
     "execution_count": 6,
     "metadata": {},
     "output_type": "execute_result"
    }
   ],
   "source": [
    "# Remove columns with too many NaN values; only select variables that pass the threshold\n",
    "NA_val = vehicles_data.isna().sum()\n",
    "def na_filter(na, threshold = .4): \n",
    "    col_pass = []\n",
    "    for i in na.keys():\n",
    "        if na[i]/vehicles_data.shape[0]<threshold:\n",
    "            col_pass.append(i)\n",
    "    return col_pass\n",
    "vehicles_data_cleaned = vehicles_data[na_filter(NA_val)]\n",
    "vehicles_data_cleaned.columns"
   ]
  },
  {
   "cell_type": "code",
   "execution_count": null,
   "metadata": {},
   "outputs": [],
   "source": [
    "# #Replace remaining numerical NaN values with column means\n",
    "# vehicles_data_cleaned.isnull().any()\n",
    "# vehicles_data_cleaned = vehicles_data_cleaned.fillna(vehicles_data_cleaned.mean())"
   ]
  },
  {
   "cell_type": "markdown",
   "metadata": {},
   "source": [
    "#### Price Outliers"
   ]
  },
  {
   "cell_type": "markdown",
   "metadata": {},
   "source": [
    "The overview of the raw dataset above shows that the max price in the set is over $4B. As a result the spread of the standard deviation for the dataset is significantly and unrealistically skewed. We decided to set the range of prices to a more realistic spread using the interquartile range (IQR) method.\n",
    "\n",
    "The IQR, also called the midspread, is a measure of statistical variability based on dividing a dataset into quartiles. It can be used to identify and remove outliers. Quartiles divide a rank-ordered dataset into four equal parts. The values that divide each part are called the first, second, and third quartiles; Q1, Q2, and Q3, respectively.\n",
    "\n",
    "* Q1 is the middle value in the first half of the dataset.\n",
    "* Q2 is the median value in the dataset.\n",
    "* Q3 is the middle value in the second half of the dataset.\n",
    "\n",
    "The theory of the IQR range rule is as follows:\n",
    "\n",
    "> **1. Calculate IQR:** Q3 — Q1\n",
    "\n",
    "> **2. Find the minimum number of the range:** Q1 — (1.5 * IQR)\n",
    "\n",
    "> **3. Find the maximum number of the range:** Q3 + (1.5 * IQR)\n",
    "\n",
    "> **4. Remove any values that lie outside of this range**"
   ]
  },
  {
   "cell_type": "code",
   "execution_count": 7,
   "metadata": {
    "scrolled": true
   },
   "outputs": [],
   "source": [
    "# Remove price outliers\n",
    "vehicles_data_cleaned = vehicles_data_cleaned[vehicles_data_cleaned['price'].between(1000, 250000)]\n",
    "\n",
    "# Define quartiles and calculate IQR\n",
    "Q1 = vehicles_data_cleaned['price'].quantile(0.25)\n",
    "Q3 = vehicles_data_cleaned['price'].quantile(0.75)\n",
    "IQR = Q3 - Q1\n",
    "\n",
    "# Filter out values between Q1 - 1.5 * IQR and Q3 + 1.5 * IQR\n",
    "vehicles_data_cleaned = vehicles_data_cleaned.query('(@Q1 - 1.5 * @IQR) <= price <= (@Q3 + 1.5 * @IQR)')"
   ]
  },
  {
   "cell_type": "code",
   "execution_count": 9,
   "metadata": {},
   "outputs": [
    {
     "data": {
      "text/plain": [
       "<matplotlib.axes._subplots.AxesSubplot at 0x118e22650>"
      ]
     },
     "execution_count": 9,
     "metadata": {},
     "output_type": "execute_result"
    },
    {
     "data": {
      "image/png": "[encoded data removed]",
      "text/plain": [
       "<Figure size 432x288 with 1 Axes>"
      ]
     },
     "metadata": {
      "needs_background": "light"
     },
     "output_type": "display_data"
    }
   ],
   "source": [
    "# Show distrubition of price once outliers are removed\n",
    "vehicles_data_cleaned.boxplot('price')"
   ]
  },
  {
   "cell_type": "markdown",
   "metadata": {},
   "source": [
    "### *Making Judgement Calls: Cut-offs for Year, Odometer / Choosing Columns to Drop Altogether*"
   ]
  },
  {
   "cell_type": "markdown",
   "metadata": {},
   "source": [
    "#### Year"
   ]
  },
  {
   "cell_type": "markdown",
   "metadata": {},
   "source": [
    "The overview of the data shows 2021 cars listed. Since any 2021 car would be a new car and the scope of our project is used cars, we removed all 2021 cars from the dataset. \n",
    "\n",
    "Additionally, we removed any car that was built before 1956 from the dataset. We chose 1956 as the cutoff because that's the year construction began on the National Interstate Highway System. After World War II, an increasing number of people began to flee major cities for the suburbs. The interstate highways were built to accommate the increasing number of cars on the road as more people bought cars to commute into the cities for work and travel between the suburbs.\n",
    "\n",
    "Prior to that, owning a car was considered more of a luxury than a \"must-have\" item, so there were far fewer cars built before 1956. As a result, any car built pre-1956 still on the market today would command a much higher than average price, which would skew the dataset. So we decided to remove them."
   ]
  },
  {
   "cell_type": "code",
   "execution_count": 12,
   "metadata": {},
   "outputs": [],
   "source": [
    "# Removed cars older than 1956 and newer than 2020\n",
    "vehicles_data_cleaned = vehicles_data_cleaned[vehicles_data_cleaned['year'].between(1956, 2020)]"
   ]
  },
  {
   "cell_type": "markdown",
   "metadata": {},
   "source": [
    "#### Odometer"
   ]
  },
  {
   "cell_type": "markdown",
   "metadata": {},
   "source": [
    "The max odometer mileage is listed as 64M+, which is obviously not correct, so we removed that from the dataset as well. To determine a reasonable ceiling for odometer mileage, we took the difference between 75th-percentile and the 25-percentile values and added that difference with a multiplier of 1.5 to the 75th-percentile value."
   ]
  },
  {
   "cell_type": "code",
   "execution_count": 13,
   "metadata": {},
   "outputs": [],
   "source": [
    "# Removed odomoter outliers = 137755 + 1.5 * (137755-47038.5)\n",
    "vehicles_data_cleaned = vehicles_data_cleaned[vehicles_data_cleaned['odometer'].between(0, 273829.75)]"
   ]
  },
  {
   "cell_type": "markdown",
   "metadata": {},
   "source": [
    "#### Dropping Columns"
   ]
  },
  {
   "cell_type": "markdown",
   "metadata": {},
   "source": [
    "*We chose to drop certain columns from dataset based partially on intuition and partially on trial and error.* \n",
    "\n",
    "* **url, id, region_url, image_url:** These are not relevant to the analysis being conducted.\n",
    "\n",
    "* **description:** This could be used with natural language processing, but that's beyond the scope of this project so it was disregarded.\n",
    "\n",
    "* **region, state:** These two present the same information that latitude and longitude does more precisely.\n",
    "\n",
    "* **model:** There were far too many distinct values to convert them to dummy variables. Additionally, we couldn’t use label encoding because the values are not ordered.\n",
    "\n",
    "* **paint_color:** This was removed after conducting feature importance (*see machine learning notebook*). Since feature importance indicated that paint_color had little importance in determining price, we removed it and the accuracy of the model improved."
   ]
  },
  {
   "cell_type": "code",
   "execution_count": 15,
   "metadata": {},
   "outputs": [],
   "source": [
    "# Remove irrelevant columns\n",
    "vehicles_final = vehicles_data_cleaned.copy().drop(['id', 'url', 'region_url', 'image_url', \n",
    "                                                     'description', 'model', 'paint_color', \n",
    "                                                     'state', 'region'], axis=1)"
   ]
  },
  {
   "cell_type": "markdown",
   "metadata": {},
   "source": [
    "### *Overview of Final Dataset / Exporting as CSV*"
   ]
  },
  {
   "cell_type": "code",
   "execution_count": 16,
   "metadata": {},
   "outputs": [
    {
     "data": {
      "text/html": [
       "<div>\n",
       "<style scoped>\n",
       "    .dataframe tbody tr th:only-of-type {\n",
       "        vertical-align: middle;\n",
       "    }\n",
       "\n",
       "    .dataframe tbody tr th {\n",
       "        vertical-align: top;\n",
       "    }\n",
       "\n",
       "    .dataframe thead th {\n",
       "        text-align: right;\n",
       "    }\n",
       "</style>\n",
       "<table border=\"1\" class=\"dataframe\">\n",
       "  <thead>\n",
       "    <tr style=\"text-align: right;\">\n",
       "      <th></th>\n",
       "      <th>price</th>\n",
       "      <th>year</th>\n",
       "      <th>manufacturer</th>\n",
       "      <th>fuel</th>\n",
       "      <th>odometer</th>\n",
       "      <th>title_status</th>\n",
       "      <th>transmission</th>\n",
       "      <th>drive</th>\n",
       "      <th>type</th>\n",
       "      <th>lat</th>\n",
       "      <th>long</th>\n",
       "    </tr>\n",
       "  </thead>\n",
       "  <tbody>\n",
       "    <tr>\n",
       "      <th>0</th>\n",
       "      <td>10299</td>\n",
       "      <td>2012.0</td>\n",
       "      <td>acura</td>\n",
       "      <td>gas</td>\n",
       "      <td>90186.0</td>\n",
       "      <td>clean</td>\n",
       "      <td>automatic</td>\n",
       "      <td>NaN</td>\n",
       "      <td>other</td>\n",
       "      <td>35.7636</td>\n",
       "      <td>-78.7443</td>\n",
       "    </tr>\n",
       "    <tr>\n",
       "      <th>2</th>\n",
       "      <td>9500</td>\n",
       "      <td>2011.0</td>\n",
       "      <td>jaguar</td>\n",
       "      <td>gas</td>\n",
       "      <td>85000.0</td>\n",
       "      <td>clean</td>\n",
       "      <td>automatic</td>\n",
       "      <td>NaN</td>\n",
       "      <td>NaN</td>\n",
       "      <td>36.1032</td>\n",
       "      <td>-79.8794</td>\n",
       "    </tr>\n",
       "    <tr>\n",
       "      <th>3</th>\n",
       "      <td>3995</td>\n",
       "      <td>2004.0</td>\n",
       "      <td>honda</td>\n",
       "      <td>gas</td>\n",
       "      <td>212526.0</td>\n",
       "      <td>clean</td>\n",
       "      <td>automatic</td>\n",
       "      <td>fwd</td>\n",
       "      <td>SUV</td>\n",
       "      <td>35.7636</td>\n",
       "      <td>-78.7443</td>\n",
       "    </tr>\n",
       "    <tr>\n",
       "      <th>5</th>\n",
       "      <td>12995</td>\n",
       "      <td>2015.0</td>\n",
       "      <td>kia</td>\n",
       "      <td>gas</td>\n",
       "      <td>85127.0</td>\n",
       "      <td>clean</td>\n",
       "      <td>automatic</td>\n",
       "      <td>4wd</td>\n",
       "      <td>wagon</td>\n",
       "      <td>35.7636</td>\n",
       "      <td>-78.7443</td>\n",
       "    </tr>\n",
       "    <tr>\n",
       "      <th>6</th>\n",
       "      <td>10995</td>\n",
       "      <td>2014.0</td>\n",
       "      <td>chevrolet</td>\n",
       "      <td>gas</td>\n",
       "      <td>112383.0</td>\n",
       "      <td>clean</td>\n",
       "      <td>automatic</td>\n",
       "      <td>fwd</td>\n",
       "      <td>SUV</td>\n",
       "      <td>35.7636</td>\n",
       "      <td>-78.7443</td>\n",
       "    </tr>\n",
       "    <tr>\n",
       "      <th>...</th>\n",
       "      <td>...</td>\n",
       "      <td>...</td>\n",
       "      <td>...</td>\n",
       "      <td>...</td>\n",
       "      <td>...</td>\n",
       "      <td>...</td>\n",
       "      <td>...</td>\n",
       "      <td>...</td>\n",
       "      <td>...</td>\n",
       "      <td>...</td>\n",
       "      <td>...</td>\n",
       "    </tr>\n",
       "    <tr>\n",
       "      <th>539753</th>\n",
       "      <td>12955</td>\n",
       "      <td>2015.0</td>\n",
       "      <td>mazda</td>\n",
       "      <td>gas</td>\n",
       "      <td>74508.0</td>\n",
       "      <td>clean</td>\n",
       "      <td>automatic</td>\n",
       "      <td>fwd</td>\n",
       "      <td>wagon</td>\n",
       "      <td>35.7636</td>\n",
       "      <td>-78.7443</td>\n",
       "    </tr>\n",
       "    <tr>\n",
       "      <th>539755</th>\n",
       "      <td>13995</td>\n",
       "      <td>2016.0</td>\n",
       "      <td>nissan</td>\n",
       "      <td>gas</td>\n",
       "      <td>97545.0</td>\n",
       "      <td>clean</td>\n",
       "      <td>automatic</td>\n",
       "      <td>4wd</td>\n",
       "      <td>pickup</td>\n",
       "      <td>35.7636</td>\n",
       "      <td>-78.7443</td>\n",
       "    </tr>\n",
       "    <tr>\n",
       "      <th>539756</th>\n",
       "      <td>10995</td>\n",
       "      <td>2010.0</td>\n",
       "      <td>bmw</td>\n",
       "      <td>gas</td>\n",
       "      <td>80328.0</td>\n",
       "      <td>clean</td>\n",
       "      <td>automatic</td>\n",
       "      <td>NaN</td>\n",
       "      <td>coupe</td>\n",
       "      <td>35.7636</td>\n",
       "      <td>-78.7443</td>\n",
       "    </tr>\n",
       "    <tr>\n",
       "      <th>539757</th>\n",
       "      <td>6495</td>\n",
       "      <td>2015.0</td>\n",
       "      <td>dodge</td>\n",
       "      <td>other</td>\n",
       "      <td>83521.0</td>\n",
       "      <td>clean</td>\n",
       "      <td>manual</td>\n",
       "      <td>fwd</td>\n",
       "      <td>sedan</td>\n",
       "      <td>35.7636</td>\n",
       "      <td>-78.7443</td>\n",
       "    </tr>\n",
       "    <tr>\n",
       "      <th>539758</th>\n",
       "      <td>8990</td>\n",
       "      <td>2008.0</td>\n",
       "      <td>gmc</td>\n",
       "      <td>gas</td>\n",
       "      <td>168000.0</td>\n",
       "      <td>clean</td>\n",
       "      <td>automatic</td>\n",
       "      <td>NaN</td>\n",
       "      <td>SUV</td>\n",
       "      <td>46.4500</td>\n",
       "      <td>-95.1247</td>\n",
       "    </tr>\n",
       "  </tbody>\n",
       "</table>\n",
       "<p>377969 rows × 11 columns</p>\n",
       "</div>"
      ],
      "text/plain": [
       "        price    year manufacturer   fuel  odometer title_status transmission  \\\n",
       "0       10299  2012.0        acura    gas   90186.0        clean    automatic   \n",
       "2        9500  2011.0       jaguar    gas   85000.0        clean    automatic   \n",
       "3        3995  2004.0        honda    gas  212526.0        clean    automatic   \n",
       "5       12995  2015.0          kia    gas   85127.0        clean    automatic   \n",
       "6       10995  2014.0    chevrolet    gas  112383.0        clean    automatic   \n",
       "...       ...     ...          ...    ...       ...          ...          ...   \n",
       "539753  12955  2015.0        mazda    gas   74508.0        clean    automatic   \n",
       "539755  13995  2016.0       nissan    gas   97545.0        clean    automatic   \n",
       "539756  10995  2010.0          bmw    gas   80328.0        clean    automatic   \n",
       "539757   6495  2015.0        dodge  other   83521.0        clean       manual   \n",
       "539758   8990  2008.0          gmc    gas  168000.0        clean    automatic   \n",
       "\n",
       "       drive    type      lat     long  \n",
       "0        NaN   other  35.7636 -78.7443  \n",
       "2        NaN     NaN  36.1032 -79.8794  \n",
       "3        fwd     SUV  35.7636 -78.7443  \n",
       "5        4wd   wagon  35.7636 -78.7443  \n",
       "6        fwd     SUV  35.7636 -78.7443  \n",
       "...      ...     ...      ...      ...  \n",
       "539753   fwd   wagon  35.7636 -78.7443  \n",
       "539755   4wd  pickup  35.7636 -78.7443  \n",
       "539756   NaN   coupe  35.7636 -78.7443  \n",
       "539757   fwd   sedan  35.7636 -78.7443  \n",
       "539758   NaN     SUV  46.4500 -95.1247  \n",
       "\n",
       "[377969 rows x 11 columns]"
      ]
     },
     "execution_count": 16,
     "metadata": {},
     "output_type": "execute_result"
    }
   ],
   "source": [
    "# View final dataset\n",
    "vehicles_final"
   ]
  },
  {
   "cell_type": "code",
   "execution_count": 17,
   "metadata": {
    "scrolled": true
   },
   "outputs": [
    {
     "data": {
      "text/html": [
       "<div>\n",
       "<style scoped>\n",
       "    .dataframe tbody tr th:only-of-type {\n",
       "        vertical-align: middle;\n",
       "    }\n",
       "\n",
       "    .dataframe tbody tr th {\n",
       "        vertical-align: top;\n",
       "    }\n",
       "\n",
       "    .dataframe thead th {\n",
       "        text-align: right;\n",
       "    }\n",
       "</style>\n",
       "<table border=\"1\" class=\"dataframe\">\n",
       "  <thead>\n",
       "    <tr style=\"text-align: right;\">\n",
       "      <th></th>\n",
       "      <th>price</th>\n",
       "      <th>year</th>\n",
       "      <th>odometer</th>\n",
       "      <th>lat</th>\n",
       "      <th>long</th>\n",
       "    </tr>\n",
       "  </thead>\n",
       "  <tbody>\n",
       "    <tr>\n",
       "      <th>count</th>\n",
       "      <td>377969.000000</td>\n",
       "      <td>377969.000000</td>\n",
       "      <td>377969.000000</td>\n",
       "      <td>374741.000000</td>\n",
       "      <td>374741.000000</td>\n",
       "    </tr>\n",
       "    <tr>\n",
       "      <th>mean</th>\n",
       "      <td>13477.334244</td>\n",
       "      <td>2010.530655</td>\n",
       "      <td>100015.571552</td>\n",
       "      <td>38.650439</td>\n",
       "      <td>-93.791969</td>\n",
       "    </tr>\n",
       "    <tr>\n",
       "      <th>std</th>\n",
       "      <td>8681.048820</td>\n",
       "      <td>6.627536</td>\n",
       "      <td>57752.427878</td>\n",
       "      <td>5.761889</td>\n",
       "      <td>17.632650</td>\n",
       "    </tr>\n",
       "    <tr>\n",
       "      <th>min</th>\n",
       "      <td>1000.000000</td>\n",
       "      <td>1956.000000</td>\n",
       "      <td>0.000000</td>\n",
       "      <td>-84.911400</td>\n",
       "      <td>-170.288000</td>\n",
       "    </tr>\n",
       "    <tr>\n",
       "      <th>25%</th>\n",
       "      <td>6295.000000</td>\n",
       "      <td>2007.000000</td>\n",
       "      <td>52237.000000</td>\n",
       "      <td>34.601900</td>\n",
       "      <td>-106.617000</td>\n",
       "    </tr>\n",
       "    <tr>\n",
       "      <th>50%</th>\n",
       "      <td>11900.000000</td>\n",
       "      <td>2012.000000</td>\n",
       "      <td>97612.000000</td>\n",
       "      <td>39.322500</td>\n",
       "      <td>-87.705200</td>\n",
       "    </tr>\n",
       "    <tr>\n",
       "      <th>75%</th>\n",
       "      <td>18955.000000</td>\n",
       "      <td>2015.000000</td>\n",
       "      <td>140000.000000</td>\n",
       "      <td>42.496700</td>\n",
       "      <td>-81.018800</td>\n",
       "    </tr>\n",
       "    <tr>\n",
       "      <th>max</th>\n",
       "      <td>38629.000000</td>\n",
       "      <td>2020.000000</td>\n",
       "      <td>273795.000000</td>\n",
       "      <td>84.514800</td>\n",
       "      <td>161.016000</td>\n",
       "    </tr>\n",
       "  </tbody>\n",
       "</table>\n",
       "</div>"
      ],
      "text/plain": [
       "               price           year       odometer            lat  \\\n",
       "count  377969.000000  377969.000000  377969.000000  374741.000000   \n",
       "mean    13477.334244    2010.530655  100015.571552      38.650439   \n",
       "std      8681.048820       6.627536   57752.427878       5.761889   \n",
       "min      1000.000000    1956.000000       0.000000     -84.911400   \n",
       "25%      6295.000000    2007.000000   52237.000000      34.601900   \n",
       "50%     11900.000000    2012.000000   97612.000000      39.322500   \n",
       "75%     18955.000000    2015.000000  140000.000000      42.496700   \n",
       "max     38629.000000    2020.000000  273795.000000      84.514800   \n",
       "\n",
       "                long  \n",
       "count  374741.000000  \n",
       "mean      -93.791969  \n",
       "std        17.632650  \n",
       "min      -170.288000  \n",
       "25%      -106.617000  \n",
       "50%       -87.705200  \n",
       "75%       -81.018800  \n",
       "max       161.016000  "
      ]
     },
     "execution_count": 17,
     "metadata": {},
     "output_type": "execute_result"
    }
   ],
   "source": [
    "# See overview of data once numerical NaN values, outliers, and columns are removed\n",
    "vehicles_final.describe()#.apply(lambda s: s.apply(lambda x: format(x, 'f')))"
   ]
  },
  {
   "cell_type": "code",
   "execution_count": 18,
   "metadata": {},
   "outputs": [],
   "source": [
    "# Export to csv file\n",
    "vehicles_final.to_csv('data/vehicles_cleaned.csv')"
   ]
  },
  {
   "cell_type": "code",
   "execution_count": null,
   "metadata": {},
   "outputs": [],
   "source": []
  }
 ],
 "metadata": {
  "kernelspec": {
   "display_name": "Python 3",
   "language": "python",
   "name": "python3"
  },
  "language_info": {
   "codemirror_mode": {
    "name": "ipython",
    "version": 3
   },
   "file_extension": ".py",
   "mimetype": "text/x-python",
   "name": "python",
   "nbconvert_exporter": "python",
   "pygments_lexer": "ipython3",
   "version": "3.7.6"
  }
 },
 "nbformat": 4,
 "nbformat_minor": 4
}
