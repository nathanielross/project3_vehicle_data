{
 "cells": [
  {
   "cell_type": "code",
   "execution_count": 1,
   "metadata": {},
   "outputs": [],
   "source": [
    "# Import dependencies\n",
    "import numpy as np\n",
    "import pandas as pd\n",
    "import matplotlib.pylab as plt\n",
    "import seaborn as sns"
   ]
  },
  {
   "cell_type": "code",
   "execution_count": 2,
   "metadata": {},
   "outputs": [],
   "source": [
    "#Reading in data file\n",
    "vehicles_final = pd.read_csv(\"data/vehicles_cleaned.csv\")"
   ]
  },
  {
   "cell_type": "code",
   "execution_count": 3,
   "metadata": {},
   "outputs": [
    {
     "data": {
      "text/html": [
       "<div>\n",
       "<style scoped>\n",
       "    .dataframe tbody tr th:only-of-type {\n",
       "        vertical-align: middle;\n",
       "    }\n",
       "\n",
       "    .dataframe tbody tr th {\n",
       "        vertical-align: top;\n",
       "    }\n",
       "\n",
       "    .dataframe thead th {\n",
       "        text-align: right;\n",
       "    }\n",
       "</style>\n",
       "<table border=\"1\" class=\"dataframe\">\n",
       "  <thead>\n",
       "    <tr style=\"text-align: right;\">\n",
       "      <th></th>\n",
       "      <th>price</th>\n",
       "      <th>year</th>\n",
       "      <th>manufacturer</th>\n",
       "      <th>fuel</th>\n",
       "      <th>odometer</th>\n",
       "      <th>title_status</th>\n",
       "      <th>transmission</th>\n",
       "      <th>drive</th>\n",
       "      <th>type</th>\n",
       "      <th>lat</th>\n",
       "      <th>long</th>\n",
       "    </tr>\n",
       "  </thead>\n",
       "  <tbody>\n",
       "    <tr>\n",
       "      <th>0</th>\n",
       "      <td>10299</td>\n",
       "      <td>2012.0</td>\n",
       "      <td>acura</td>\n",
       "      <td>gas</td>\n",
       "      <td>90186.0</td>\n",
       "      <td>clean</td>\n",
       "      <td>automatic</td>\n",
       "      <td>NaN</td>\n",
       "      <td>other</td>\n",
       "      <td>35.7636</td>\n",
       "      <td>-78.7443</td>\n",
       "    </tr>\n",
       "    <tr>\n",
       "      <th>1</th>\n",
       "      <td>9500</td>\n",
       "      <td>2011.0</td>\n",
       "      <td>jaguar</td>\n",
       "      <td>gas</td>\n",
       "      <td>85000.0</td>\n",
       "      <td>clean</td>\n",
       "      <td>automatic</td>\n",
       "      <td>NaN</td>\n",
       "      <td>NaN</td>\n",
       "      <td>36.1032</td>\n",
       "      <td>-79.8794</td>\n",
       "    </tr>\n",
       "    <tr>\n",
       "      <th>2</th>\n",
       "      <td>3995</td>\n",
       "      <td>2004.0</td>\n",
       "      <td>honda</td>\n",
       "      <td>gas</td>\n",
       "      <td>212526.0</td>\n",
       "      <td>clean</td>\n",
       "      <td>automatic</td>\n",
       "      <td>fwd</td>\n",
       "      <td>SUV</td>\n",
       "      <td>35.7636</td>\n",
       "      <td>-78.7443</td>\n",
       "    </tr>\n",
       "    <tr>\n",
       "      <th>3</th>\n",
       "      <td>12995</td>\n",
       "      <td>2015.0</td>\n",
       "      <td>kia</td>\n",
       "      <td>gas</td>\n",
       "      <td>85127.0</td>\n",
       "      <td>clean</td>\n",
       "      <td>automatic</td>\n",
       "      <td>4wd</td>\n",
       "      <td>wagon</td>\n",
       "      <td>35.7636</td>\n",
       "      <td>-78.7443</td>\n",
       "    </tr>\n",
       "    <tr>\n",
       "      <th>4</th>\n",
       "      <td>10995</td>\n",
       "      <td>2014.0</td>\n",
       "      <td>chevrolet</td>\n",
       "      <td>gas</td>\n",
       "      <td>112383.0</td>\n",
       "      <td>clean</td>\n",
       "      <td>automatic</td>\n",
       "      <td>fwd</td>\n",
       "      <td>SUV</td>\n",
       "      <td>35.7636</td>\n",
       "      <td>-78.7443</td>\n",
       "    </tr>\n",
       "  </tbody>\n",
       "</table>\n",
       "</div>"
      ],
      "text/plain": [
       "   price    year manufacturer fuel  odometer title_status transmission drive  \\\n",
       "0  10299  2012.0        acura  gas   90186.0        clean    automatic   NaN   \n",
       "1   9500  2011.0       jaguar  gas   85000.0        clean    automatic   NaN   \n",
       "2   3995  2004.0        honda  gas  212526.0        clean    automatic   fwd   \n",
       "3  12995  2015.0          kia  gas   85127.0        clean    automatic   4wd   \n",
       "4  10995  2014.0    chevrolet  gas  112383.0        clean    automatic   fwd   \n",
       "\n",
       "    type      lat     long  \n",
       "0  other  35.7636 -78.7443  \n",
       "1    NaN  36.1032 -79.8794  \n",
       "2    SUV  35.7636 -78.7443  \n",
       "3  wagon  35.7636 -78.7443  \n",
       "4    SUV  35.7636 -78.7443  "
      ]
     },
     "execution_count": 3,
     "metadata": {},
     "output_type": "execute_result"
    }
   ],
   "source": [
    "#Getting a view of the data file\n",
    "vehicles_final.head()"
   ]
  },
  {
   "cell_type": "code",
   "execution_count": 5,
   "metadata": {},
   "outputs": [
    {
     "data": {
      "text/plain": [
       "<matplotlib.axes._subplots.AxesSubplot at 0x1a201f9dd0>"
      ]
     },
     "execution_count": 5,
     "metadata": {},
     "output_type": "execute_result"
    },
    {
     "data": {
      "image/png": "[encoded data removed]",
      "text/plain": [
       "<Figure size 432x288 with 2 Axes>"
      ]
     },
     "metadata": {
      "needs_background": "light"
     },
     "output_type": "display_data"
    }
   ],
   "source": [
    "# #Create correlation heatmap using Seaborn library\n",
    "corr = vehicles_final.corr()# plot the heatmap\n",
    "sns.heatmap(corr, xticklabels=corr.columns, \n",
    "yticklabels=corr.columns, annot=True, \n",
    "cmap=\"YlGnBu\")"
   ]
  },
  {
   "cell_type": "code",
   "execution_count": 6,
   "metadata": {},
   "outputs": [
    {
     "name": "stdout",
     "output_type": "stream",
     "text": [
      "Index(['price', 'year', 'odometer', 'lat', 'long', 'manufacturer_alfa-romeo',\n",
      "       'manufacturer_aston-martin', 'manufacturer_audi', 'manufacturer_bmw',\n",
      "       'manufacturer_buick', 'manufacturer_cadillac', 'manufacturer_chevrolet',\n",
      "       'manufacturer_chrysler', 'manufacturer_datsun', 'manufacturer_dodge',\n",
      "       'manufacturer_ferrari', 'manufacturer_fiat', 'manufacturer_ford',\n",
      "       'manufacturer_gmc', 'manufacturer_harley-davidson',\n",
      "       'manufacturer_honda', 'manufacturer_hyundai', 'manufacturer_infiniti',\n",
      "       'manufacturer_jaguar', 'manufacturer_jeep', 'manufacturer_kia',\n",
      "       'manufacturer_land rover', 'manufacturer_lexus', 'manufacturer_lincoln',\n",
      "       'manufacturer_mazda', 'manufacturer_mercedes-benz',\n",
      "       'manufacturer_mercury', 'manufacturer_mini', 'manufacturer_mitsubishi',\n",
      "       'manufacturer_nissan', 'manufacturer_pontiac', 'manufacturer_porche',\n",
      "       'manufacturer_ram', 'manufacturer_rover', 'manufacturer_saturn',\n",
      "       'manufacturer_subaru', 'manufacturer_tesla', 'manufacturer_toyota',\n",
      "       'manufacturer_volkswagen', 'manufacturer_volvo', 'fuel_electric',\n",
      "       'fuel_gas', 'fuel_hybrid', 'fuel_other', 'title_status_lien',\n",
      "       'title_status_missing', 'title_status_parts only',\n",
      "       'title_status_rebuilt', 'title_status_salvage', 'transmission_manual',\n",
      "       'transmission_other', 'drive_fwd', 'drive_rwd', 'type_bus',\n",
      "       'type_convertible', 'type_coupe', 'type_hatchback', 'type_mini-van',\n",
      "       'type_offroad', 'type_other', 'type_pickup', 'type_sedan', 'type_truck',\n",
      "       'type_van', 'type_wagon'],\n",
      "      dtype='object')\n"
     ]
    }
   ],
   "source": [
    "#Creating dummy variables\n",
    "vehicles_final = pd.get_dummies(vehicles_final, drop_first=True)\n",
    "print(vehicles_final.columns)"
   ]
  },
  {
   "cell_type": "code",
   "execution_count": 7,
   "metadata": {},
   "outputs": [],
   "source": [
    "#Filling remaining numerical NaN values with mean\n",
    "vehicles_final.isnull().any()\n",
    "vehicles_final = vehicles_final.fillna(vehicles_final.mean())"
   ]
  },
  {
   "cell_type": "code",
   "execution_count": 8,
   "metadata": {},
   "outputs": [],
   "source": [
    "#Scaling our data\n",
    "from sklearn.preprocessing import StandardScaler\n",
    "\n",
    "#Getting column indexes and values w/ iloc and loc for our explanatory variables, scaling\n",
    "X_head = vehicles_final.iloc[:, vehicles_final.columns != 'price']\n",
    "X = vehicles_final.loc[:, vehicles_final.columns != 'price']\n",
    "X = StandardScaler().fit_transform(X)\n",
    "\n",
    "#Storing price as our response variable\n",
    "y = vehicles_final['price']\n"
   ]
  },
  {
   "cell_type": "markdown",
   "metadata": {},
   "source": [
    "## Random Forest Regression"
   ]
  },
  {
   "cell_type": "code",
   "execution_count": 9,
   "metadata": {},
   "outputs": [],
   "source": [
    "#Creating our Random Forest model\n",
    "from sklearn.ensemble import RandomForestRegressor\n",
    "from sklearn.model_selection import train_test_split\n",
    "from sklearn.metrics import mean_absolute_error as MAE\n",
    "\n",
    "#Creating our training and testing data\n",
    "X_train, X_test, y_train, y_test = train_test_split(X, y, test_size=.25, random_state=0)\n",
    "\n",
    "#Creating Random Forest Regression model\n",
    "rfr_model = RandomForestRegressor()\n",
    "rfr_model.fit(X_train, y_train)\n",
    "rfr_predictions = rfr_model.predict(X_test)"
   ]
  },
  {
   "cell_type": "code",
   "execution_count": 12,
   "metadata": {},
   "outputs": [
    {
     "name": "stdout",
     "output_type": "stream",
     "text": [
      "Mean Absolute Error: 1782.2455311005208.\n",
      "Accuracy Percentage: 0.8757341477530972.\n"
     ]
    }
   ],
   "source": [
    "#Checking accuracy of model\n",
    "rfr_mean_absolute_error = MAE(y_test, rfr_predictions)\n",
    "print(f\"Mean Absolute Error: {rfr_mean_absolute_error}.\")\n",
    "print(f\"Accuracy Percentage: {rfr_model.score(X_test,y_test)}.\")"
   ]
  },
  {
   "cell_type": "code",
   "execution_count": 13,
   "metadata": {
    "scrolled": true
   },
   "outputs": [
    {
     "data": {
      "text/plain": [
       "<matplotlib.axes._subplots.AxesSubplot at 0x1a20637810>"
      ]
     },
     "execution_count": 13,
     "metadata": {},
     "output_type": "execute_result"
    },
    {
     "data": {
      "image/png": "[encoded data removed]",
      "text/plain": [
       "<Figure size 720x720 with 1 Axes>"
      ]
     },
     "metadata": {
      "needs_background": "light"
     },
     "output_type": "display_data"
    }
   ],
   "source": [
    "#Feature Importance\n",
    "feat_importances = pd.Series(rfr_model.feature_importances_, index=X_head.columns)\n",
    "feat_importances.nlargest(25).plot(kind='barh',figsize=(10,10))"
   ]
  },
  {
   "cell_type": "markdown",
   "metadata": {},
   "source": [
    "## Linear Regression"
   ]
  },
  {
   "cell_type": "code",
   "execution_count": 14,
   "metadata": {},
   "outputs": [],
   "source": [
    "from sklearn.linear_model import LinearRegression\n",
    "\n",
    "lr_model = LinearRegression()\n",
    "lr_model.fit(X_train, y_train)\n",
    "lr_predictions = lr_model.predict(X_test)\n",
    "lr_residuals = lr_predictions - y_test"
   ]
  },
  {
   "cell_type": "code",
   "execution_count": 15,
   "metadata": {},
   "outputs": [
    {
     "name": "stdout",
     "output_type": "stream",
     "text": [
      "Mean Absolute Error: 3793.673128725063.\n",
      "Accuracy Percentage: 0.6437975641923902.\n"
     ]
    }
   ],
   "source": [
    "#Checking accuracy of model\n",
    "lr_mean_absolute_error = MAE(y_test, lr_predictions)\n",
    "print(f\"Mean Absolute Error: {lr_mean_absolute_error}.\")\n",
    "print(f\"Accuracy Percentage: {lr_model.score(X_test,y_test)}.\")"
   ]
  },
  {
   "cell_type": "markdown",
   "metadata": {},
   "source": [
    "#### Plotting Residuals"
   ]
  },
  {
   "cell_type": "code",
   "execution_count": 16,
   "metadata": {},
   "outputs": [
    {
     "data": {
      "text/plain": [
       "<matplotlib.legend.Legend at 0x1a23bc7ad0>"
      ]
     },
     "execution_count": 16,
     "metadata": {},
     "output_type": "execute_result"
    },
    {
     "data": {
      "image/png": "[encoded data removed]",
      "text/plain": [
       "<Figure size 432x288 with 1 Axes>"
      ]
     },
     "metadata": {
      "needs_background": "light"
     },
     "output_type": "display_data"
    }
   ],
   "source": [
    "plt.scatter(lr_predictions, lr_residuals, c='orange', label='Testing')\n",
    "plt.hlines(y=0, xmin=lr_predictions.min(), xmax=lr_predictions.max())\n",
    "plt.legend()"
   ]
  },
  {
   "cell_type": "markdown",
   "metadata": {},
   "source": [
    "## Lasso Regression"
   ]
  },
  {
   "cell_type": "code",
   "execution_count": 17,
   "metadata": {},
   "outputs": [],
   "source": [
    "from sklearn.linear_model import Lasso\n",
    "\n",
    "# Create Lasso Regression Model\n",
    "lasso_model = Lasso()\n",
    "lasso_model.fit(X_train, y_train)\n",
    "lasso_predictions = lasso_model.predict(X_test)"
   ]
  },
  {
   "cell_type": "code",
   "execution_count": 20,
   "metadata": {},
   "outputs": [
    {
     "name": "stdout",
     "output_type": "stream",
     "text": [
      "Mean Absolute Error: 3793.5810319720595.\n",
      "Accuracy Percentage: 0.6438096854116828.\n"
     ]
    }
   ],
   "source": [
    "#Checking accuracy of model\n",
    "lasso_mean_absolute_error = MAE(y_test, lasso_predictions)\n",
    "print(f\"Mean Absolute Error: {lasso_mean_absolute_error}.\")\n",
    "print(f\"Accuracy Percentage: {lasso_model.score(X_test,y_test)}.\")"
   ]
  },
  {
   "cell_type": "markdown",
   "metadata": {},
   "source": [
    "## Ridge Regression"
   ]
  },
  {
   "cell_type": "code",
   "execution_count": 21,
   "metadata": {},
   "outputs": [],
   "source": [
    "from sklearn.linear_model import Ridge\n",
    "\n",
    "# Create Ridge Regression Model\n",
    "rr_model = Ridge()\n",
    "rr_model.fit(X_train, y_train)\n",
    "rr_predictions = rr_model.predict(X_test)"
   ]
  },
  {
   "cell_type": "code",
   "execution_count": 22,
   "metadata": {},
   "outputs": [
    {
     "name": "stdout",
     "output_type": "stream",
     "text": [
      "Mean Absolute Error: 3793.673526499802.\n",
      "Accuracy Percentage: 0.6437975858974727.\n"
     ]
    }
   ],
   "source": [
    "#Checking accuracy of model\n",
    "rr_mean_absolute_error = MAE(y_test, rr_predictions)\n",
    "print(f\"Mean Absolute Error: {rr_mean_absolute_error}.\")\n",
    "print(f\"Accuracy Percentage: {rr_model.score(X_test,y_test)}.\")"
   ]
  },
  {
   "cell_type": "markdown",
   "metadata": {},
   "source": [
    "## Model Accuracy Comparison"
   ]
  },
  {
   "cell_type": "code",
   "execution_count": 23,
   "metadata": {},
   "outputs": [
    {
     "name": "stdout",
     "output_type": "stream",
     "text": [
      "Random Forest Regression Accuracy Percentage: 0.8757341477530972\n",
      "Linear Regression Accuracy Percentage: 0.6437975641923902\n",
      "Lasso Regression Accuracy Percentage: 0.6438096854116828\n",
      "Ridge Regression Accuracy Percentage: 0.6437975858974727\n"
     ]
    }
   ],
   "source": [
    "rfr_accuracy = rfr_model.score(X_test,y_test)\n",
    "lr_accuracy = lr_model.score(X_test,y_test)\n",
    "lasso_accuracy = lasso_model.score(X_test,y_test)\n",
    "rr_accuracy = rr_model.score(X_test,y_test)\n",
    "\n",
    "print(f\"Random Forest Regression Accuracy Percentage: {rfr_accuracy}\")\n",
    "print(f\"Linear Regression Accuracy Percentage: {lr_accuracy}\")\n",
    "print(f\"Lasso Regression Accuracy Percentage: {lasso_accuracy}\")\n",
    "print(f\"Ridge Regression Accuracy Percentage: {rr_accuracy}\")"
   ]
  },
  {
   "cell_type": "code",
   "execution_count": null,
   "metadata": {},
   "outputs": [],
   "source": []
  }
 ],
 "metadata": {
  "kernelspec": {
   "display_name": "Python 3",
   "language": "python",
   "name": "python3"
  },
  "language_info": {
   "codemirror_mode": {
    "name": "ipython",
    "version": 3
   },
   "file_extension": ".py",
   "mimetype": "text/x-python",
   "name": "python",
   "nbconvert_exporter": "python",
   "pygments_lexer": "ipython3",
   "version": "3.7.6"
  }
 },
 "nbformat": 4,
 "nbformat_minor": 2
}
